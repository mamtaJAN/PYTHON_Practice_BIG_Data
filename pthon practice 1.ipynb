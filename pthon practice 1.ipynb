{
 "cells": [
  {
   "cell_type": "code",
   "execution_count": 1,
   "id": "24641b60-8a46-4ec1-8aae-b6a1f2610adf",
   "metadata": {},
   "outputs": [],
   "source": [
    "#if number is greater than 10 itherwise check number is gretaer than 20  else simply print the number "
   ]
  },
  {
   "cell_type": "code",
   "execution_count": 3,
   "id": "7557de79-1499-420f-a650-6b9e5a3019b6",
   "metadata": {},
   "outputs": [
    {
     "name": "stdout",
     "output_type": "stream",
     "text": [
      "10\n"
     ]
    }
   ],
   "source": [
    "a=10\n",
    "if(a>20):\n",
    "    print(\"greter than 20 \")\n",
    "elif(a>10):\n",
    "    print(\"greter than 10 \")\n",
    "else:\n",
    "    print(a)"
   ]
  },
  {
   "cell_type": "code",
   "execution_count": 4,
   "id": "6c11bbb2-2f32-49ba-96d3-302edf9814db",
   "metadata": {},
   "outputs": [],
   "source": [
    "#if we have age =10 >child 20> adult 40>citizen else scineor citizen"
   ]
  },
  {
   "cell_type": "code",
   "execution_count": 7,
   "id": "2bf0fada-8fae-4965-a886-f241aefbff30",
   "metadata": {},
   "outputs": [
    {
     "name": "stdout",
     "output_type": "stream",
     "text": [
      "child\n"
     ]
    }
   ],
   "source": [
    "age=15\n",
    "if(age>60):\n",
    "     print(\"Sinieor Citizen\")\n",
    "elif(age>=45):\n",
    "      print(\"Citizen\")\n",
    "elif(age>=20):\n",
    "   print(\"Adult\")\n",
    "else:\n",
    "     print(\"child\")"
   ]
  },
  {
   "cell_type": "code",
   "execution_count": 8,
   "id": "b203e597-2bef-44f3-9bb7-d062a97f0b40",
   "metadata": {},
   "outputs": [],
   "source": [
    "#take 3 age of person find out the oldest one "
   ]
  },
  {
   "cell_type": "code",
   "execution_count": 12,
   "id": "7be77f58-39c7-43ee-ba50-bcf14733a593",
   "metadata": {},
   "outputs": [
    {
     "name": "stdin",
     "output_type": "stream",
     "text": [
      "enter the age a 44\n"
     ]
    },
    {
     "name": "stdout",
     "output_type": "stream",
     "text": [
      "44\n"
     ]
    },
    {
     "name": "stdin",
     "output_type": "stream",
     "text": [
      "enter the age b 23\n"
     ]
    },
    {
     "name": "stdout",
     "output_type": "stream",
     "text": [
      "23\n"
     ]
    },
    {
     "name": "stdin",
     "output_type": "stream",
     "text": [
      "enter the age c 11\n"
     ]
    },
    {
     "name": "stdout",
     "output_type": "stream",
     "text": [
      "11\n",
      "person a is oldest\n"
     ]
    }
   ],
   "source": [
    "a=input(\"enter the age a\")\n",
    "print(a)\n",
    "b=input(\"enter the age b\")\n",
    "print(b)\n",
    "c=input(\"enter the age c\")\n",
    "print(c)\n",
    "if(a>b and a>c):\n",
    "    print(\"person a is oldest\")\n",
    "elif(b>a and b>c):\n",
    "    print(\"b person is oldest\")\n",
    "else:\n",
    "    print(\"c is oldest\")"
   ]
  },
  {
   "cell_type": "code",
   "execution_count": 13,
   "id": "7a5495bf-8abf-4b37-8c16-bfa60ddb7c37",
   "metadata": {},
   "outputs": [],
   "source": [
    "# 3 angles r given =>check triangle\n"
   ]
  },
  {
   "cell_type": "code",
   "execution_count": 20,
   "id": "cd8ea050-73b5-46dd-aaec-50df7b69405e",
   "metadata": {},
   "outputs": [
    {
     "name": "stdout",
     "output_type": "stream",
     "text": [
      "201\n",
      "traingle\n"
     ]
    }
   ],
   "source": [
    "a=78\n",
    "b=34\n",
    "c=89\n",
    "sum=a+b+c\n",
    "print(sum)\n",
    "if(sum>=180):\n",
    "    print(\"traingle\")\n",
    "else:\n",
    "    print(\"not trangle\")"
   ]
  },
  {
   "cell_type": "code",
   "execution_count": 21,
   "id": "25d52069-6bc4-4fc4-a3f1-453d88665893",
   "metadata": {},
   "outputs": [],
   "source": [
    "#u hve given year as string we need to check wherther year is leap year\n",
    "#y%4==0 or y%400==0 y%100=!0"
   ]
  },
  {
   "cell_type": "code",
   "execution_count": 43,
   "id": "902e389e-a1d8-41f2-b9fb-97a7bc17c715",
   "metadata": {},
   "outputs": [
    {
     "name": "stdout",
     "output_type": "stream",
     "text": [
      "<class 'str'>\n",
      "<class 'int'>\n",
      "not leap year\n"
     ]
    }
   ],
   "source": [
    "num = '2100'\n",
    "print(type(num))\n",
    "year= int(num)\n",
    "print(type(year))\n",
    "\n",
    "if(year%4==0 and year%100!=0):\n",
    " print(\"leap year\")\n",
    "elif(year%100!=0 or year%400==0 ):\n",
    "     print(\" leap year\") \n",
    "else:\n",
    "  print(\"not leap year\")"
   ]
  },
  {
   "cell_type": "code",
   "execution_count": null,
   "id": "80fe2770-e417-433b-8813-a0f6ce9ac844",
   "metadata": {},
   "outputs": [],
   "source": [
    "#4 100! or 400 "
   ]
  },
  {
   "cell_type": "code",
   "execution_count": 45,
   "id": "54f92ebc-6617-4ee2-9166-4149d34f7c3c",
   "metadata": {},
   "outputs": [],
   "source": [
    "#calculate total amount nikal na hai for special condition\n",
    "#first starting values of 50 units 1 rupees per unit calculate karenge\n",
    "#next 100 unit 2 rupees per unit \n",
    "#next 200 unit 10 rupess se\n",
    "#and else\n",
    "#by 15\n"
   ]
  },
  {
   "cell_type": "code",
   "execution_count": 52,
   "id": "583570d3-9397-41db-8bab-7c1c2f98c114",
   "metadata": {},
   "outputs": [
    {
     "name": "stdin",
     "output_type": "stream",
     "text": [
      "Enter the unit 400\n"
     ]
    },
    {
     "name": "stdout",
     "output_type": "stream",
     "text": [
      "400\n",
      "1550\n"
     ]
    }
   ],
   "source": [
    "unit=int(input(\"Enter the unit\"))\n",
    "print(unit)\n",
    "if (unit<=50):\n",
    "    amount=unit+1\n",
    "elif(unit<=150):\n",
    "    amount=50+(unit-50)*2\n",
    "elif(unit<250):\n",
    "    amount=50+200+(unit-150)*2\n",
    "else:\n",
    "    amount=50+200+1000+(unit-250)*2\n",
    "print(amount) "
   ]
  },
  {
   "cell_type": "code",
   "execution_count": 55,
   "id": "b33e7441-bec9-4602-91e8-7f2dfb4b04ed",
   "metadata": {},
   "outputs": [],
   "source": [
    "#we have been given 3 side of triangle a b c check whether that triangle is scallen or isosclies or equliteral\n",
    "#"
   ]
  },
  {
   "cell_type": "code",
   "execution_count": 61,
   "id": "f585607d-d8ad-49cf-8a1c-7683892911a2",
   "metadata": {},
   "outputs": [
    {
     "name": "stdin",
     "output_type": "stream",
     "text": [
      "Enter the a value 1\n",
      "Enter the b value 2\n",
      "Enter the c value 3\n"
     ]
    },
    {
     "name": "stdout",
     "output_type": "stream",
     "text": [
      "scalene triangle\n"
     ]
    }
   ],
   "source": [
    "a=input(\"Enter the a value\")\n",
    "b=input(\"Enter the b value\")\n",
    "c=input(\"Enter the c value\")\n",
    "if (a!=b and a!=c)or(b!=a and b!=c):\n",
    "    print(\"scalene triangle\")\n",
    "elif (a!=b and a==c)or(b!=c and b==a):\n",
    "    print(\" isosceles triangle\")  \n",
    "elif (a==b and a==c)or(b==c and b==a):\n",
    "    print(\"equilateral triangle\")  \n",
    "else:\n",
    "    print(\"not triangle\")"
   ]
  },
  {
   "cell_type": "code",
   "execution_count": null,
   "id": "e3274b1b-3bb7-4e62-a72c-ddc43e913d4a",
   "metadata": {},
   "outputs": [],
   "source": [
    "u have been given an amount and u need to calculate  minimal notes required  to  get total amount \n",
    "#user want 506 => minimum notes 500 ,5,1.\n",
    "1115\n",
    "# python 2 python 3 difference\n",
    "#difeeret datatypes in python \n",
    "#what is the diference between statement and functions"
   ]
  }
 ],
 "metadata": {
  "kernelspec": {
   "display_name": "Python 3 (ipykernel)",
   "language": "python",
   "name": "python3"
  },
  "language_info": {
   "codemirror_mode": {
    "name": "ipython",
    "version": 3
   },
   "file_extension": ".py",
   "mimetype": "text/x-python",
   "name": "python",
   "nbconvert_exporter": "python",
   "pygments_lexer": "ipython3",
   "version": "3.10.11"
  }
 },
 "nbformat": 4,
 "nbformat_minor": 5
}
