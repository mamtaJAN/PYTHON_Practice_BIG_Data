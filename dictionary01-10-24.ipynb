{
 "cells": [
  {
   "cell_type": "code",
   "execution_count": 9,
   "id": "fabc6b50-2d81-4da2-981d-5a5990967552",
   "metadata": {},
   "outputs": [
    {
     "name": "stdout",
     "output_type": "stream",
     "text": [
      " second largest 50\n"
     ]
    }
   ],
   "source": [
    "mylist=[10,20,300,50,5]\n",
    "largest=slargest=0\n",
    "for n in mylist:\n",
    "    if(n>largest):\n",
    "        slargest=largest\n",
    "        largest=n\n",
    "    elif(n>largest) and(n!=largest):\n",
    "        slargest=largest\n",
    "        largest=n\n",
    "print(\" second largest\",largest)"
   ]
  },
  {
   "cell_type": "code",
   "execution_count": 10,
   "id": "6fecf153-fd77-4af1-b913-52fbdec60b82",
   "metadata": {},
   "outputs": [
    {
     "name": "stdout",
     "output_type": "stream",
     "text": [
      "12\n"
     ]
    }
   ],
   "source": [
    "mylist1=[12,10,3,5,20]\n",
    "min=12\n",
    "smin=0\n",
    "if(n<min):\n",
    "    smin=min\n",
    "    min=n\n",
    "elif(n<smin):\n",
    "    smin=n\n",
    "print(smin)\n"
   ]
  },
  {
   "cell_type": "code",
   "execution_count": 11,
   "id": "d4bb19d0-d59e-4ce7-9830-85e91f3940e2",
   "metadata": {},
   "outputs": [],
   "source": [
    "##Occuarance"
   ]
  },
  {
   "cell_type": "code",
   "execution_count": 12,
   "id": "d31ddc33-ea13-4a97-b369-0b2366abf851",
   "metadata": {},
   "outputs": [
    {
     "name": "stdout",
     "output_type": "stream",
     "text": [
      "10 20\n",
      "10 30\n",
      "10 10\n",
      "20 30\n",
      "20 10\n",
      "30 10\n"
     ]
    }
   ],
   "source": [
    "mylist=[10,20,30,10]\n",
    "size1=len(mylist)\n",
    "for index in range(size1):\n",
    "    for sindex in range(index+1,size1):\n",
    "        print(mylist[index],mylist[sindex])"
   ]
  },
  {
   "cell_type": "code",
   "execution_count": 45,
   "id": "d90b3f57-788f-4eb0-a149-7330e66bd742",
   "metadata": {},
   "outputs": [
    {
     "name": "stdout",
     "output_type": "stream",
     "text": [
      "[10]\n",
      "[10]\n",
      "[10]\n",
      "[10]\n"
     ]
    }
   ],
   "source": [
    "## DUPLICATES\n",
    "mylist11=[10,20,30,10,30,30,40]\n",
    "size1=len(mylist)\n",
    "newlist=[]\n",
    "for index in range (size1):\n",
    "    for sindex in range(index+1,size1):\n",
    "        if (mylist[index]==mylist[sindex] and mylist[index] not in newlist ):\n",
    "            newlist.append(mylist[index])\n",
    "    print(newlist)"
   ]
  },
  {
   "cell_type": "code",
   "execution_count": 33,
   "id": "96c35134-300b-4ab0-80f5-031c9faf545f",
   "metadata": {},
   "outputs": [
    {
     "name": "stdout",
     "output_type": "stream",
     "text": [
      "A B C D E F G H I J K L M ['A', 'B', 'C', 'D', 'E', 'F', 'G', 'H', 'I', 'J', 'K', 'L', 'M']\n",
      "N O P Q R S T U V W X Y Z ['N', 'O', 'P', 'Q', 'R', 'S', 'T', 'U', 'V', 'W', 'X', 'Y', 'Z']\n",
      "('M', 'Z')\n",
      "('M', 'Z')\n",
      "('M', 'Z')\n",
      "('M', 'Z')\n",
      "('M', 'Z')\n",
      "('M', 'Z')\n",
      "('M', 'Z')\n",
      "('M', 'Z')\n",
      "('M', 'Z')\n",
      "('M', 'Z')\n",
      "('M', 'Z')\n",
      "('M', 'Z')\n",
      "('M', 'Z')\n",
      "result: {('A', 'N')}\n",
      "result: {('B', 'O')}\n",
      "result: {('C', 'P')}\n",
      "result: {('D', 'Q')}\n",
      "result: {('E', 'R')}\n",
      "result: {('F', 'S')}\n",
      "result: {('G', 'T')}\n",
      "result: {('H', 'U')}\n",
      "result: {('I', 'V')}\n",
      "result: {('J', 'W')}\n",
      "result: {('K', 'X')}\n",
      "result: {('L', 'Y')}\n",
      "result: {('M', 'Z')}\n"
     ]
    }
   ],
   "source": [
    "mylist2=[]\n",
    "mylist3=[]\n",
    "for i in range(65,78):\n",
    "    print(chr(i),end=\" \")\n",
    "    mylist2.append(chr(i))\n",
    "print(mylist2)\n",
    "for k in range(78,91):\n",
    "    print(chr(k),end=\" \")\n",
    "    mylist3.append(chr(k))\n",
    "print(mylist3)\n",
    "\n",
    "for i,k in zip(mylist2,mylist3):\n",
    "    #r=(mylist2[i]==mylist3[k])\n",
    "  print(r)\n",
    "\n",
    "for f,s in zip(mylist2,mylist3):\n",
    "  r= {(f,s)}\n",
    "  print(\"result:\",r)\n"
   ]
  },
  {
   "cell_type": "code",
   "execution_count": null,
   "id": "84962c5e-f3d4-4701-9f6b-72bc46d67c3c",
   "metadata": {},
   "outputs": [],
   "source": [
    "data=''\n",
    "for i in range (0,26):\n",
    "    data=data+chr(97+i)\n",
    "print(data)\n"
   ]
  },
  {
   "cell_type": "code",
   "execution_count": null,
   "id": "af87fc6e-7da3-4496-a211-39d8cb8f0965",
   "metadata": {},
   "outputs": [],
   "source": [
    "\n"
   ]
  },
  {
   "cell_type": "code",
   "execution_count": null,
   "id": "b857083e-ab1f-41b8-9e96-5f87cff999a3",
   "metadata": {},
   "outputs": [],
   "source": []
  },
  {
   "cell_type": "code",
   "execution_count": null,
   "id": "8fd0c347-e9c8-4e88-9547-5e99f4601dbc",
   "metadata": {},
   "outputs": [],
   "source": [
    "\n",
    "\n",
    "\n",
    "\n",
    "\n",
    "\n",
    "\n"
   ]
  }
 ],
 "metadata": {
  "kernelspec": {
   "display_name": "Python 3 (ipykernel)",
   "language": "python",
   "name": "python3"
  },
  "language_info": {
   "codemirror_mode": {
    "name": "ipython",
    "version": 3
   },
   "file_extension": ".py",
   "mimetype": "text/x-python",
   "name": "python",
   "nbconvert_exporter": "python",
   "pygments_lexer": "ipython3",
   "version": "3.10.11"
  }
 },
 "nbformat": 4,
 "nbformat_minor": 5
}
