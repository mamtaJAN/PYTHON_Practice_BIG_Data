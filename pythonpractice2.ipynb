{
 "cells": [
  {
   "cell_type": "code",
   "execution_count": 11,
   "id": "4fa841a9-d090-4a5b-9519-02d8db069dc6",
   "metadata": {},
   "outputs": [
    {
     "name": "stdout",
     "output_type": "stream",
     "text": [
      "minimal notes: {500: 1, 100: 3, 50: 1, 20: 2, 5: 1, 1: 2}\n"
     ]
    }
   ],
   "source": [
    "amount = 897\n",
    "Notes= [500,100, 50, 20, 10, 5, 1]\n",
    "notecount = {}\n",
    "for i in Notes:\n",
    "        if amount >= i:\n",
    "            num_notes = amount // i\n",
    "            notecount[i] = num_notes\n",
    "            amount -= num_notes * i\n",
    "print(\"minimal notes:\",notecount)\n"
   ]
  },
  {
   "cell_type": "code",
   "execution_count": 12,
   "id": "3d213277-7569-4008-9cff-8efb872b0e7c",
   "metadata": {},
   "outputs": [],
   "source": [
    "#from 50 to 25 agr 10>greter the 10 20 >greter than 20"
   ]
  },
  {
   "cell_type": "code",
   "execution_count": 15,
   "id": "f8aaf76d-055a-410a-9395-23a2f9ade01b",
   "metadata": {},
   "outputs": [
    {
     "name": "stdout",
     "output_type": "stream",
     "text": [
      "greter than 20\n",
      "greter than 20\n",
      "greter than 20\n",
      "greter than 20\n",
      "greter than 20\n",
      "greter than 20\n",
      "greter than 20\n",
      "greter than 20\n",
      "greter than 20\n",
      "greter than 20\n",
      "greter than 20\n",
      "greter than 20\n",
      "greter than 20\n",
      "greter than 20\n",
      "greter than 20\n",
      "greter than 20\n",
      "greter than 20\n",
      "greter than 20\n",
      "greter than 20\n",
      "greter than 20\n",
      "greter than 20\n",
      "greter than 20\n",
      "greter than 20\n",
      "greter than 20\n",
      "greter than 20\n"
     ]
    }
   ],
   "source": [
    "for i in range(50,25,-1):\n",
    "    if(i>20):\n",
    "        print(\"greter than 20\")\n",
    "    elif(i>10):\n",
    "            print(\"greter than 10\")\n",
    "    else:\n",
    "         print(\"condition not matched\")\n"
   ]
  },
  {
   "cell_type": "code",
   "execution_count": 16,
   "id": "f32dfd44-58a3-4df1-b34b-2a232dd08455",
   "metadata": {},
   "outputs": [],
   "source": [
    "#to get the sum of first 50 natural numbers"
   ]
  },
  {
   "cell_type": "code",
   "execution_count": 22,
   "id": "ef4ca2d3-5a52-4390-82a0-171b80ce3f8f",
   "metadata": {},
   "outputs": [
    {
     "name": "stdout",
     "output_type": "stream",
     "text": [
      "1275\n"
     ]
    }
   ],
   "source": [
    "t=0\n",
    "for i in range(1,51):\n",
    "    t=t+i\n",
    "print(t)"
   ]
  },
  {
   "cell_type": "code",
   "execution_count": 28,
   "id": "7c089967-5266-4d86-b5b8-96f979817ff3",
   "metadata": {},
   "outputs": [
    {
     "name": "stdout",
     "output_type": "stream",
     "text": [
      "1334\n"
     ]
    }
   ],
   "source": [
    "t=0\n",
    "for i in range(80,35,-1):\n",
    "    if(i%2==0):\n",
    "     t=t+i\n",
    "print(t)"
   ]
  },
  {
   "cell_type": "code",
   "execution_count": 30,
   "id": "59c8b0c5-da87-47dd-b233-24088eb519fd",
   "metadata": {},
   "outputs": [],
   "source": [
    "#10 prime number8\n"
   ]
  },
  {
   "cell_type": "code",
   "execution_count": 38,
   "id": "a762774a-41e2-4ae2-9dbb-167c9c07d2c2",
   "metadata": {},
   "outputs": [
    {
     "name": "stdout",
     "output_type": "stream",
     "text": [
      "Not prime number\n"
     ]
    }
   ],
   "source": [
    "primeNo=9\n",
    "isprime=True\n",
    "for i in range(2,primeNo):\n",
    "    if(primeNo%i==0):\n",
    "        isprime=False\n",
    "        break\n",
    "if(isprime==True):\n",
    "    print(\"prime number\")\n",
    "else:\n",
    "    print(\"Not prime number\")\n"
   ]
  },
  {
   "cell_type": "code",
   "execution_count": 37,
   "id": "5c19f04a-99f5-4a37-bfc3-cd571c3158cb",
   "metadata": {},
   "outputs": [
    {
     "name": "stdout",
     "output_type": "stream",
     "text": [
      "0\n",
      "1\n",
      "2\n",
      "3\n",
      "4\n",
      "5\n",
      "6\n",
      "7\n",
      "8\n",
      "9\n"
     ]
    }
   ],
   "source": [
    "x=10\n",
    "for i in range(0,x):\n",
    "    print(i)\n",
    "    "
   ]
  },
  {
   "cell_type": "code",
   "execution_count": 40,
   "id": "00f0b534-8309-4b62-8d67-3a66e337784b",
   "metadata": {},
   "outputs": [
    {
     "name": "stdout",
     "output_type": "stream",
     "text": [
      "before reminder 134\n",
      "After Divide 13\n",
      "before reminder 13\n",
      "After Divide 1\n",
      "before reminder 1\n",
      "After Divide 0\n",
      "total 8\n"
     ]
    }
   ],
   "source": [
    "x=134\n",
    "i=x\n",
    "reminder=0\n",
    "while(i>0):\n",
    "    print(\"before divide\",i)\n",
    "    reminder+=i%10\n",
    "    i=i//10\n",
    "    print(\"After Divide\",i)\n",
    "    \n",
    "print(\"total\",reminder)"
   ]
  },
  {
   "cell_type": "code",
   "execution_count": 56,
   "id": "0ec3e16e-7128-470a-a981-253266ab5c15",
   "metadata": {},
   "outputs": [
    {
     "name": "stdout",
     "output_type": "stream",
     "text": [
      "4\n",
      "3\n",
      "2\n",
      "1\n"
     ]
    }
   ],
   "source": [
    "n=5\n",
    "if(n<0):\n",
    "    print(\"0\")\n",
    "elif(n==0 or n==1):\n",
    "    print(\"1\")\n",
    "else:\n",
    "    while(n>1):\n",
    "        fact=1\n",
    "        fact=fact*n\n",
    "        n=n-1\n",
    "        print(n)"
   ]
  },
  {
   "cell_type": "code",
   "execution_count": 57,
   "id": "7a17c35d-f333-4617-a9e2-136770865913",
   "metadata": {},
   "outputs": [],
   "source": [
    "#wap to check whether any number is armstrong number"
   ]
  },
  {
   "cell_type": "code",
   "execution_count": null,
   "id": "b05df86c-871f-4211-9ef4-daf4f9b3a0ab",
   "metadata": {},
   "outputs": [],
   "source": []
  },
  {
   "cell_type": "code",
   "execution_count": 61,
   "id": "d9e16063-14bd-4e79-9379-e8fc5ff00543",
   "metadata": {},
   "outputs": [
    {
     "name": "stdout",
     "output_type": "stream",
     "text": [
      " armstrong number\n"
     ]
    }
   ],
   "source": [
    "n = 153 \n",
    "s = n \n",
    "b = len(str(n))\n",
    "sum1=0\n",
    "while(n!=0):\n",
    "\tr=n%10\n",
    "\tsum1=sum1+(r**b)\n",
    "\tn = n//10\n",
    "if (s==sum1):\n",
    "\tprint(\" armstrong number\")\n",
    "else:\n",
    "\tprint(\" not armstrong number\")"
   ]
  },
  {
   "cell_type": "code",
   "execution_count": null,
   "id": "f3f39ee4-9275-432a-8a48-cea295568270",
   "metadata": {},
   "outputs": [],
   "source": [
    "# Python3 program to check if a number is Palindrome\n",
    "\n",
    "# Function to check Palindrome\n",
    "def check_palindrome(n):\n",
    "    reverse = 0\n",
    "    # Copy of the original number so that the original\n",
    "    # number remains unchanged while finding the reverse\n",
    "    temp = n\n",
    "    while temp != 0:\n",
    "        reverse = reverse * 10 + temp % 10\n",
    "        temp = temp // 10\n",
    "    # If reverse is equal to the original number, the\n",
    "    # number is palindrome\n",
    "    return reverse == n\n",
    "\n",
    "# Sample Input\n",
    "n = 12321\n",
    "if check_palindrome(n):\n",
    "      print(\"Yes\")\n",
    "else:\n",
    "      print(\"No\")\n"
   ]
  }
 ],
 "metadata": {
  "kernelspec": {
   "display_name": "Python 3 (ipykernel)",
   "language": "python",
   "name": "python3"
  },
  "language_info": {
   "codemirror_mode": {
    "name": "ipython",
    "version": 3
   },
   "file_extension": ".py",
   "mimetype": "text/x-python",
   "name": "python",
   "nbconvert_exporter": "python",
   "pygments_lexer": "ipython3",
   "version": "3.10.11"
  }
 },
 "nbformat": 4,
 "nbformat_minor": 5
}
